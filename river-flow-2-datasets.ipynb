{
 "cells": [
  {
   "cell_type": "markdown",
   "id": "c7177cce",
   "metadata": {
    "papermill": {
     "duration": 0.015116,
     "end_time": "2022-05-13T08:45:15.607968",
     "exception": false,
     "start_time": "2022-05-13T08:45:15.592852",
     "status": "completed"
    },
    "tags": []
   },
   "source": [
    "# About this NoteBook\n",
    "An overview of the RF2 dataset.\n",
    "\n",
    "The reason I created this notebook was to introduce the dataset and add the proper methods to import the dataset. I could not find any related description regarding this dataset; Therefore, I tried to have brief information regarding the dataset here.\n",
    "\n",
    "\n",
    "#### Author: [Seyedsaman Emami](https://github.com/samanemami)"
   ]
  },
  {
   "cell_type": "markdown",
   "id": "27d34bec",
   "metadata": {
    "_kg_hide-input": true,
    "papermill": {
     "duration": 0.014736,
     "end_time": "2022-05-13T08:45:15.637964",
     "exception": false,
     "start_time": "2022-05-13T08:45:15.623228",
     "status": "completed"
    },
    "tags": []
   },
   "source": [
    "# Importing Library"
   ]
  },
  {
   "cell_type": "code",
   "execution_count": 1,
   "id": "97a0626f",
   "metadata": {
    "_kg_hide-input": true,
    "execution": {
     "iopub.execute_input": "2022-05-13T08:45:15.670179Z",
     "iopub.status.busy": "2022-05-13T08:45:15.669575Z",
     "iopub.status.idle": "2022-05-13T08:45:17.023898Z",
     "shell.execute_reply": "2022-05-13T08:45:17.022525Z"
    },
    "papermill": {
     "duration": 1.373458,
     "end_time": "2022-05-13T08:45:17.026442",
     "exception": false,
     "start_time": "2022-05-13T08:45:15.652984",
     "status": "completed"
    },
    "tags": []
   },
   "outputs": [],
   "source": [
    "import os\n",
    "import warnings\n",
    "import numpy as np\n",
    "import pandas as pd\n",
    "import seaborn as sns\n",
    "from scipy.io import arff\n",
    "import matplotlib.pyplot as plt\n",
    "\n",
    "warnings.simplefilter(\"ignore\")"
   ]
  },
  {
   "cell_type": "markdown",
   "id": "fa852bb8",
   "metadata": {
    "papermill": {
     "duration": 0.014552,
     "end_time": "2022-05-13T08:45:17.056291",
     "exception": false,
     "start_time": "2022-05-13T08:45:17.041739",
     "status": "completed"
    },
    "tags": []
   },
   "source": [
    "# Data Entry"
   ]
  },
  {
   "cell_type": "code",
   "execution_count": 2,
   "id": "ce0203a5",
   "metadata": {
    "execution": {
     "iopub.execute_input": "2022-05-13T08:45:17.087325Z",
     "iopub.status.busy": "2022-05-13T08:45:17.087076Z",
     "iopub.status.idle": "2022-05-13T08:45:17.091559Z",
     "shell.execute_reply": "2022-05-13T08:45:17.090826Z"
    },
    "papermill": {
     "duration": 0.022273,
     "end_time": "2022-05-13T08:45:17.093192",
     "exception": false,
     "start_time": "2022-05-13T08:45:17.070919",
     "status": "completed"
    },
    "tags": []
   },
   "outputs": [],
   "source": [
    "def dt(path):\n",
    "    df = arff.loadarff(path)\n",
    "    df = pd.DataFrame(df[0])\n",
    "    return df\n",
    "path = \"../input/river-flowrf2/\""
   ]
  },
  {
   "cell_type": "markdown",
   "id": "a850fb16",
   "metadata": {
    "papermill": {
     "duration": 0.014105,
     "end_time": "2022-05-13T08:45:17.121795",
     "exception": false,
     "start_time": "2022-05-13T08:45:17.107690",
     "status": "completed"
    },
    "tags": []
   },
   "source": [
    "## Return the dataset input and targets\n",
    "name is the string value of the dataset name\n",
    "\n",
    "d is the number of features"
   ]
  },
  {
   "cell_type": "code",
   "execution_count": 3,
   "id": "b9a528d3",
   "metadata": {
    "execution": {
     "iopub.execute_input": "2022-05-13T08:45:17.153392Z",
     "iopub.status.busy": "2022-05-13T08:45:17.152536Z",
     "iopub.status.idle": "2022-05-13T08:45:20.850765Z",
     "shell.execute_reply": "2022-05-13T08:45:20.850035Z"
    },
    "papermill": {
     "duration": 3.716495,
     "end_time": "2022-05-13T08:45:20.853103",
     "exception": false,
     "start_time": "2022-05-13T08:45:17.136608",
     "status": "completed"
    },
    "tags": []
   },
   "outputs": [],
   "source": [
    "d = 576\n",
    "dt_name = \"rf2.arff\"\n",
    "dt_path = os.path.join(path, dt_name)\n",
    "df = dt(dt_path)\n",
    "X = (df.iloc[:, :d]).values\n",
    "y = (df.iloc[:, d:]).values"
   ]
  },
  {
   "cell_type": "code",
   "execution_count": 4,
   "id": "60f94bed",
   "metadata": {
    "execution": {
     "iopub.execute_input": "2022-05-13T08:45:20.899437Z",
     "iopub.status.busy": "2022-05-13T08:45:20.899095Z",
     "iopub.status.idle": "2022-05-13T08:45:20.938480Z",
     "shell.execute_reply": "2022-05-13T08:45:20.937339Z"
    },
    "papermill": {
     "duration": 0.064773,
     "end_time": "2022-05-13T08:45:20.940740",
     "exception": false,
     "start_time": "2022-05-13T08:45:20.875967",
     "status": "completed"
    },
    "tags": []
   },
   "outputs": [
    {
     "data": {
      "text/html": [
       "<div>\n",
       "<style scoped>\n",
       "    .dataframe tbody tr th:only-of-type {\n",
       "        vertical-align: middle;\n",
       "    }\n",
       "\n",
       "    .dataframe tbody tr th {\n",
       "        vertical-align: top;\n",
       "    }\n",
       "\n",
       "    .dataframe thead th {\n",
       "        text-align: right;\n",
       "    }\n",
       "</style>\n",
       "<table border=\"1\" class=\"dataframe\">\n",
       "  <thead>\n",
       "    <tr style=\"text-align: right;\">\n",
       "      <th></th>\n",
       "      <th>CHSI2__0</th>\n",
       "      <th>NASI2__0</th>\n",
       "      <th>EADM7__0</th>\n",
       "      <th>SCLM7__0</th>\n",
       "      <th>CLKM7__0</th>\n",
       "      <th>VALI2__0</th>\n",
       "      <th>NAPM7__0</th>\n",
       "      <th>DLDI4__0</th>\n",
       "      <th>CHSI2__-6</th>\n",
       "      <th>NASI2__-6</th>\n",
       "      <th>...</th>\n",
       "      <th>napm7_42to48hr__-60</th>\n",
       "      <th>dldi4_42to48hr__-60</th>\n",
       "      <th>CHSI2_48H__0</th>\n",
       "      <th>NASI2_48H__0</th>\n",
       "      <th>EADM7_48H__0</th>\n",
       "      <th>SCLM7_48H__0</th>\n",
       "      <th>CLKM7_48H__0</th>\n",
       "      <th>VALI2_48H__0</th>\n",
       "      <th>NAPM7_48H__0</th>\n",
       "      <th>DLDI4_48H__0</th>\n",
       "    </tr>\n",
       "  </thead>\n",
       "  <tbody>\n",
       "    <tr>\n",
       "      <th>0</th>\n",
       "      <td>288.0</td>\n",
       "      <td>3.41</td>\n",
       "      <td>276.0</td>\n",
       "      <td>194.0</td>\n",
       "      <td>63.8</td>\n",
       "      <td>8.78</td>\n",
       "      <td>166.0</td>\n",
       "      <td>59.5</td>\n",
       "      <td>NaN</td>\n",
       "      <td>NaN</td>\n",
       "      <td>...</td>\n",
       "      <td>NaN</td>\n",
       "      <td>NaN</td>\n",
       "      <td>269.0</td>\n",
       "      <td>3.33</td>\n",
       "      <td>257.0</td>\n",
       "      <td>186.0</td>\n",
       "      <td>61.2</td>\n",
       "      <td>8.07</td>\n",
       "      <td>157.0</td>\n",
       "      <td>55.1</td>\n",
       "    </tr>\n",
       "    <tr>\n",
       "      <th>1</th>\n",
       "      <td>287.0</td>\n",
       "      <td>3.40</td>\n",
       "      <td>275.0</td>\n",
       "      <td>194.0</td>\n",
       "      <td>64.1</td>\n",
       "      <td>8.81</td>\n",
       "      <td>165.0</td>\n",
       "      <td>59.4</td>\n",
       "      <td>NaN</td>\n",
       "      <td>NaN</td>\n",
       "      <td>...</td>\n",
       "      <td>NaN</td>\n",
       "      <td>NaN</td>\n",
       "      <td>269.0</td>\n",
       "      <td>3.32</td>\n",
       "      <td>257.0</td>\n",
       "      <td>185.0</td>\n",
       "      <td>61.1</td>\n",
       "      <td>8.04</td>\n",
       "      <td>157.0</td>\n",
       "      <td>55.2</td>\n",
       "    </tr>\n",
       "    <tr>\n",
       "      <th>2</th>\n",
       "      <td>288.0</td>\n",
       "      <td>3.39</td>\n",
       "      <td>274.0</td>\n",
       "      <td>193.0</td>\n",
       "      <td>63.4</td>\n",
       "      <td>8.88</td>\n",
       "      <td>165.0</td>\n",
       "      <td>59.4</td>\n",
       "      <td>NaN</td>\n",
       "      <td>NaN</td>\n",
       "      <td>...</td>\n",
       "      <td>NaN</td>\n",
       "      <td>NaN</td>\n",
       "      <td>268.0</td>\n",
       "      <td>3.32</td>\n",
       "      <td>257.0</td>\n",
       "      <td>186.0</td>\n",
       "      <td>61.3</td>\n",
       "      <td>8.14</td>\n",
       "      <td>156.0</td>\n",
       "      <td>55.2</td>\n",
       "    </tr>\n",
       "    <tr>\n",
       "      <th>3</th>\n",
       "      <td>287.0</td>\n",
       "      <td>3.39</td>\n",
       "      <td>273.0</td>\n",
       "      <td>193.0</td>\n",
       "      <td>64.0</td>\n",
       "      <td>8.70</td>\n",
       "      <td>164.0</td>\n",
       "      <td>57.9</td>\n",
       "      <td>NaN</td>\n",
       "      <td>NaN</td>\n",
       "      <td>...</td>\n",
       "      <td>NaN</td>\n",
       "      <td>NaN</td>\n",
       "      <td>268.0</td>\n",
       "      <td>3.33</td>\n",
       "      <td>257.0</td>\n",
       "      <td>185.0</td>\n",
       "      <td>61.2</td>\n",
       "      <td>8.21</td>\n",
       "      <td>156.0</td>\n",
       "      <td>55.9</td>\n",
       "    </tr>\n",
       "    <tr>\n",
       "      <th>4</th>\n",
       "      <td>287.0</td>\n",
       "      <td>3.34</td>\n",
       "      <td>273.0</td>\n",
       "      <td>193.0</td>\n",
       "      <td>64.0</td>\n",
       "      <td>8.78</td>\n",
       "      <td>165.0</td>\n",
       "      <td>57.9</td>\n",
       "      <td>NaN</td>\n",
       "      <td>NaN</td>\n",
       "      <td>...</td>\n",
       "      <td>NaN</td>\n",
       "      <td>NaN</td>\n",
       "      <td>266.0</td>\n",
       "      <td>3.31</td>\n",
       "      <td>257.0</td>\n",
       "      <td>185.0</td>\n",
       "      <td>61.4</td>\n",
       "      <td>8.04</td>\n",
       "      <td>156.0</td>\n",
       "      <td>55.9</td>\n",
       "    </tr>\n",
       "  </tbody>\n",
       "</table>\n",
       "<p>5 rows × 584 columns</p>\n",
       "</div>"
      ],
      "text/plain": [
       "   CHSI2__0  NASI2__0  EADM7__0  SCLM7__0  CLKM7__0  VALI2__0  NAPM7__0  \\\n",
       "0     288.0      3.41     276.0     194.0      63.8      8.78     166.0   \n",
       "1     287.0      3.40     275.0     194.0      64.1      8.81     165.0   \n",
       "2     288.0      3.39     274.0     193.0      63.4      8.88     165.0   \n",
       "3     287.0      3.39     273.0     193.0      64.0      8.70     164.0   \n",
       "4     287.0      3.34     273.0     193.0      64.0      8.78     165.0   \n",
       "\n",
       "   DLDI4__0  CHSI2__-6  NASI2__-6  ...  napm7_42to48hr__-60  \\\n",
       "0      59.5        NaN        NaN  ...                  NaN   \n",
       "1      59.4        NaN        NaN  ...                  NaN   \n",
       "2      59.4        NaN        NaN  ...                  NaN   \n",
       "3      57.9        NaN        NaN  ...                  NaN   \n",
       "4      57.9        NaN        NaN  ...                  NaN   \n",
       "\n",
       "   dldi4_42to48hr__-60  CHSI2_48H__0  NASI2_48H__0  EADM7_48H__0  \\\n",
       "0                  NaN         269.0          3.33         257.0   \n",
       "1                  NaN         269.0          3.32         257.0   \n",
       "2                  NaN         268.0          3.32         257.0   \n",
       "3                  NaN         268.0          3.33         257.0   \n",
       "4                  NaN         266.0          3.31         257.0   \n",
       "\n",
       "   SCLM7_48H__0  CLKM7_48H__0  VALI2_48H__0  NAPM7_48H__0  DLDI4_48H__0  \n",
       "0         186.0          61.2          8.07         157.0          55.1  \n",
       "1         185.0          61.1          8.04         157.0          55.2  \n",
       "2         186.0          61.3          8.14         156.0          55.2  \n",
       "3         185.0          61.2          8.21         156.0          55.9  \n",
       "4         185.0          61.4          8.04         156.0          55.9  \n",
       "\n",
       "[5 rows x 584 columns]"
      ]
     },
     "execution_count": 4,
     "metadata": {},
     "output_type": "execute_result"
    }
   ],
   "source": [
    "df.head(5)"
   ]
  },
  {
   "cell_type": "markdown",
   "id": "361b7e25",
   "metadata": {
    "papermill": {
     "duration": 0.014977,
     "end_time": "2022-05-13T08:45:20.971513",
     "exception": false,
     "start_time": "2022-05-13T08:45:20.956536",
     "status": "completed"
    },
    "tags": []
   },
   "source": [
    "The inputs are the time-lagged observations from 6, 12, 18, 24, 36, 48, and 60 hours in the past for eight different rivers."
   ]
  },
  {
   "cell_type": "markdown",
   "id": "6a7e8724",
   "metadata": {
    "_kg_hide-input": false,
    "papermill": {
     "duration": 0.017001,
     "end_time": "2022-05-13T08:45:21.004221",
     "exception": false,
     "start_time": "2022-05-13T08:45:20.987220",
     "status": "completed"
    },
    "tags": []
   },
   "source": [
    "## Extra information (Click)"
   ]
  },
  {
   "cell_type": "code",
   "execution_count": 5,
   "id": "ad4c7a9b",
   "metadata": {
    "_kg_hide-input": true,
    "_kg_hide-output": true,
    "execution": {
     "iopub.execute_input": "2022-05-13T08:45:21.037007Z",
     "iopub.status.busy": "2022-05-13T08:45:21.036674Z",
     "iopub.status.idle": "2022-05-13T08:45:21.085231Z",
     "shell.execute_reply": "2022-05-13T08:45:21.084436Z"
    },
    "papermill": {
     "duration": 0.068465,
     "end_time": "2022-05-13T08:45:21.088038",
     "exception": false,
     "start_time": "2022-05-13T08:45:21.019573",
     "status": "completed"
    },
    "tags": []
   },
   "outputs": [
    {
     "name": "stdout",
     "output_type": "stream",
     "text": [
      "<class 'pandas.core.frame.DataFrame'>\n",
      "RangeIndex: 9125 entries, 0 to 9124\n",
      "Columns: 584 entries, CHSI2__0 to DLDI4_48H__0\n",
      "dtypes: float64(584)\n",
      "memory usage: 40.7 MB\n"
     ]
    }
   ],
   "source": [
    "df.info()"
   ]
  },
  {
   "cell_type": "code",
   "execution_count": 6,
   "id": "fc6e76f8",
   "metadata": {
    "_kg_hide-output": false,
    "execution": {
     "iopub.execute_input": "2022-05-13T08:45:21.137354Z",
     "iopub.status.busy": "2022-05-13T08:45:21.136927Z",
     "iopub.status.idle": "2022-05-13T08:45:21.142002Z",
     "shell.execute_reply": "2022-05-13T08:45:21.140940Z"
    },
    "papermill": {
     "duration": 0.03192,
     "end_time": "2022-05-13T08:45:21.144170",
     "exception": false,
     "start_time": "2022-05-13T08:45:21.112250",
     "status": "completed"
    },
    "tags": []
   },
   "outputs": [
    {
     "name": "stdout",
     "output_type": "stream",
     "text": [
      "(9125, 576) (9125, 8)\n"
     ]
    }
   ],
   "source": [
    "print(X.shape, y.shape)"
   ]
  },
  {
   "cell_type": "markdown",
   "id": "27e75b0c",
   "metadata": {
    "papermill": {
     "duration": 0.024903,
     "end_time": "2022-05-13T08:45:21.193420",
     "exception": false,
     "start_time": "2022-05-13T08:45:21.168517",
     "status": "completed"
    },
    "tags": []
   },
   "source": [
    "## Dataset overview"
   ]
  },
  {
   "cell_type": "code",
   "execution_count": 7,
   "id": "f3bc3f19",
   "metadata": {
    "_kg_hide-input": true,
    "_kg_hide-output": false,
    "execution": {
     "iopub.execute_input": "2022-05-13T08:45:21.246485Z",
     "iopub.status.busy": "2022-05-13T08:45:21.246000Z",
     "iopub.status.idle": "2022-05-13T08:45:27.442267Z",
     "shell.execute_reply": "2022-05-13T08:45:27.440709Z"
    },
    "papermill": {
     "duration": 6.225264,
     "end_time": "2022-05-13T08:45:27.444416",
     "exception": false,
     "start_time": "2022-05-13T08:45:21.219152",
     "status": "completed"
    },
    "tags": []
   },
   "outputs": [
    {
     "data": {
      "text/plain": [
       "<AxesSubplot:>"
      ]
     },
     "execution_count": 7,
     "metadata": {},
     "output_type": "execute_result"
    },
    {
     "data": {
      "image/png": "[encoded data removed]",
      "text/plain": [
       "<Figure size 432x288 with 2 Axes>"
      ]
     },
     "metadata": {
      "needs_background": "light"
     },
     "output_type": "display_data"
    }
   ],
   "source": [
    "sns.heatmap(df)"
   ]
  },
  {
   "cell_type": "markdown",
   "id": "89813778",
   "metadata": {
    "execution": {
     "iopub.execute_input": "2022-03-17T11:41:42.464841Z",
     "iopub.status.busy": "2022-03-17T11:41:42.464576Z",
     "iopub.status.idle": "2022-03-17T11:41:43.785424Z",
     "shell.execute_reply": "2022-03-17T11:41:43.784331Z",
     "shell.execute_reply.started": "2022-03-17T11:41:42.464814Z"
    },
    "papermill": {
     "duration": 0.025486,
     "end_time": "2022-05-13T08:45:27.495536",
     "exception": false,
     "start_time": "2022-05-13T08:45:27.470050",
     "status": "completed"
    },
    "tags": []
   },
   "source": [
    "## Missing values"
   ]
  },
  {
   "cell_type": "code",
   "execution_count": 8,
   "id": "c631ce2e",
   "metadata": {
    "execution": {
     "iopub.execute_input": "2022-05-13T08:45:27.547742Z",
     "iopub.status.busy": "2022-05-13T08:45:27.547288Z",
     "iopub.status.idle": "2022-05-13T08:45:33.050854Z",
     "shell.execute_reply": "2022-05-13T08:45:33.049712Z"
    },
    "papermill": {
     "duration": 5.532586,
     "end_time": "2022-05-13T08:45:33.052969",
     "exception": false,
     "start_time": "2022-05-13T08:45:27.520383",
     "status": "completed"
    },
    "tags": []
   },
   "outputs": [
    {
     "data": {
      "image/png": "[encoded data removed]",
      "text/plain": [
       "<Figure size 432x288 with 2 Axes>"
      ]
     },
     "metadata": {
      "needs_background": "light"
     },
     "output_type": "display_data"
    }
   ],
   "source": [
    "sns.heatmap(df.isnull(), yticklabels=False, cbar=True)\n",
    "plt.show()"
   ]
  },
  {
   "cell_type": "markdown",
   "id": "a2f97e28",
   "metadata": {
    "papermill": {
     "duration": 0.018087,
     "end_time": "2022-05-13T08:45:33.090721",
     "exception": false,
     "start_time": "2022-05-13T08:45:33.072634",
     "status": "completed"
    },
    "tags": []
   },
   "source": [
    "Each new time-lagged attribute has the missing value equal to the lag"
   ]
  },
  {
   "cell_type": "code",
   "execution_count": 9,
   "id": "16ca7f02",
   "metadata": {
    "execution": {
     "iopub.execute_input": "2022-05-13T08:45:33.129128Z",
     "iopub.status.busy": "2022-05-13T08:45:33.128826Z",
     "iopub.status.idle": "2022-05-13T08:45:33.145780Z",
     "shell.execute_reply": "2022-05-13T08:45:33.144609Z"
    },
    "papermill": {
     "duration": 0.039293,
     "end_time": "2022-05-13T08:45:33.148305",
     "exception": false,
     "start_time": "2022-05-13T08:45:33.109012",
     "status": "completed"
    },
    "tags": []
   },
   "outputs": [
    {
     "name": "stdout",
     "output_type": "stream",
     "text": [
      "0       568\n",
      "1       568\n",
      "2       568\n",
      "3       568\n",
      "4       568\n",
      "       ... \n",
      "9120      0\n",
      "9121      0\n",
      "9122      0\n",
      "9123      0\n",
      "9124      0\n",
      "Length: 9125, dtype: int64\n"
     ]
    }
   ],
   "source": [
    "# Total number of Missing values\n",
    "print(df.isnull().sum(axis=1))"
   ]
  },
  {
   "cell_type": "markdown",
   "id": "0dcedb19",
   "metadata": {
    "papermill": {
     "duration": 0.019347,
     "end_time": "2022-05-13T08:45:33.187729",
     "exception": false,
     "start_time": "2022-05-13T08:45:33.168382",
     "status": "completed"
    },
    "tags": []
   },
   "source": [
    "#### As the reference did not talk about the method of dealing with the missing values, I preferred to delete the related indexes."
   ]
  },
  {
   "cell_type": "code",
   "execution_count": 10,
   "id": "11154297",
   "metadata": {
    "execution": {
     "iopub.execute_input": "2022-05-13T08:45:33.228683Z",
     "iopub.status.busy": "2022-05-13T08:45:33.228097Z",
     "iopub.status.idle": "2022-05-13T08:45:33.232778Z",
     "shell.execute_reply": "2022-05-13T08:45:33.232342Z"
    },
    "papermill": {
     "duration": 0.026824,
     "end_time": "2022-05-13T08:45:33.234209",
     "exception": false,
     "start_time": "2022-05-13T08:45:33.207385",
     "status": "completed"
    },
    "tags": []
   },
   "outputs": [
    {
     "data": {
      "text/plain": [
       "(9125, 584)"
      ]
     },
     "execution_count": 10,
     "metadata": {},
     "output_type": "execute_result"
    }
   ],
   "source": [
    "df.shape"
   ]
  },
  {
   "cell_type": "code",
   "execution_count": 11,
   "id": "65209d19",
   "metadata": {
    "execution": {
     "iopub.execute_input": "2022-05-13T08:45:33.274029Z",
     "iopub.status.busy": "2022-05-13T08:45:33.273559Z",
     "iopub.status.idle": "2022-05-13T08:45:33.295392Z",
     "shell.execute_reply": "2022-05-13T08:45:33.294264Z"
    },
    "papermill": {
     "duration": 0.045111,
     "end_time": "2022-05-13T08:45:33.298197",
     "exception": false,
     "start_time": "2022-05-13T08:45:33.253086",
     "status": "completed"
    },
    "tags": []
   },
   "outputs": [
    {
     "name": "stdout",
     "output_type": "stream",
     "text": [
      "Missing values: 0\n"
     ]
    }
   ],
   "source": [
    "df_new = df.dropna(axis=1)\n",
    "df_new.shape\n",
    "\n",
    "print(\"Missing values:\", df_new.isnull().sum(axis=1).sum())"
   ]
  }
 ],
 "metadata": {
  "kernelspec": {
   "display_name": "Python 3",
   "language": "python",
   "name": "python3"
  },
  "language_info": {
   "codemirror_mode": {
    "name": "ipython",
    "version": 3
   },
   "file_extension": ".py",
   "mimetype": "text/x-python",
   "name": "python",
   "nbconvert_exporter": "python",
   "pygments_lexer": "ipython3",
   "version": "3.7.12"
  },
  "papermill": {
   "default_parameters": {},
   "duration": 28.321,
   "end_time": "2022-05-13T08:45:34.249115",
   "environment_variables": {},
   "exception": null,
   "input_path": "__notebook__.ipynb",
   "output_path": "__notebook__.ipynb",
   "parameters": {},
   "start_time": "2022-05-13T08:45:05.928115",
   "version": "2.3.4"
  }
 },
 "nbformat": 4,
 "nbformat_minor": 5
}
